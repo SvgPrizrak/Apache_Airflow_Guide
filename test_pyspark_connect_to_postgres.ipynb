{
 "cells": [
  {
   "cell_type": "code",
   "execution_count": 1,
   "id": "3edff4f3-46d1-40a7-b028-549384558b60",
   "metadata": {},
   "outputs": [],
   "source": [
    "import findspark\n",
    "findspark.init()\n",
    "from pyspark.sql import SparkSession\n",
    "from pyspark.sql import Row\n",
    "\n",
    "# constants for connection\n",
    "JDBC_POSTGRES_VERSION = '42.7.3'\n",
    "POSTGRES_HOST_NAME = 'localhost'\n",
    "POSTGRES_PORT=5432\n",
    "POSTGRES_DBNAME='postgres_test'\n",
    "POSTGRES_USERNAME = 'airflow'\n",
    "POSTGRES_PASSWORD = 'airflow'"
   ]
  },
  {
   "cell_type": "code",
   "execution_count": 2,
   "id": "7a180d40-5745-4d77-8423-2e8204bf9fa5",
   "metadata": {},
   "outputs": [],
   "source": [
    "# the Spark session should be instantiated as follows\n",
    "spark = SparkSession \\\n",
    "    .builder \\\n",
    "    .appName(\"Python Spark PostgreSQL basic example\") \\\n",
    "    .master(\"local\") \\\n",
    "    .config(\"spark.jars\", f\"{JDBC_POSTGRES_VERSION}.jar\") \\\n",
    "    .getOrCreate()"
   ]
  },
  {
   "cell_type": "code",
   "execution_count": 3,
   "id": "9aca12d6-e293-4ebe-8fd7-775906ddd21a",
   "metadata": {
    "scrolled": true
   },
   "outputs": [
    {
     "name": "stdout",
     "output_type": "stream",
     "text": [
      "+------+------+--------+----------+-----+\n",
      "|pet_id|  name|pet_type|birth_date|owner|\n",
      "+------+------+--------+----------+-----+\n",
      "|     1|   Max|     Dog|2018-07-05| Jane|\n",
      "|     2| Susie|     Cat|2019-05-01| Phil|\n",
      "|     3|Lester| Hamster|2020-06-23| Lily|\n",
      "|     4|Quincy|  Parrot|2013-08-11| Anne|\n",
      "+------+------+--------+----------+-----+\n",
      "\n"
     ]
    }
   ],
   "source": [
    "# connect to our table and show data\n",
    "df = spark.read.format(\"jdbc\"). \\\n",
    "options(url=f'jdbc:postgresql://{POSTGRES_HOST_NAME}:{POSTGRES_PORT}/{POSTGRES_DBNAME}', # jdbc:postgresql://<host>:<port>/<database>\n",
    "        dbtable='pet',\n",
    "        user=POSTGRES_USERNAME,\n",
    "        password=POSTGRES_PASSWORD,\n",
    "        driver='org.postgresql.Driver').load()\n",
    "df.show()"
   ]
  },
  {
   "cell_type": "code",
   "execution_count": 4,
   "id": "eb896600-5f51-42ca-92d9-f77062725267",
   "metadata": {},
   "outputs": [
    {
     "name": "stdout",
     "output_type": "stream",
     "text": [
      "+---+-----+-----+\n",
      "| id| name|marks|\n",
      "+---+-----+-----+\n",
      "|  1|vijay|   67|\n",
      "|  2| Ajay|   88|\n",
      "|  3|  jay|   79|\n",
      "|  4|vinay|   67|\n",
      "+---+-----+-----+\n",
      "\n"
     ]
    }
   ],
   "source": [
    "# create table in PySpark\n",
    "student_df = spark.createDataFrame([\n",
    "\tRow(id=1,name='vijay',marks=67),\n",
    "\tRow(id=2,name='Ajay',marks=88),\n",
    "\tRow(id=3,name='jay',marks=79),\n",
    "\tRow(id=4,name='vinay',marks=67),\n",
    "])\n",
    "student_df.show()"
   ]
  },
  {
   "cell_type": "code",
   "execution_count": 6,
   "id": "719cfbee-fc8b-4ed6-9c00-03d83dd46491",
   "metadata": {},
   "outputs": [],
   "source": [
    "# test writting to database\n",
    "student_df.select(\"id\",\"name\",\"marks\").write.format(\"jdbc\")\\\n",
    "    .option(\"url\", f\"jdbc:postgresql://{POSTGRES_HOST_NAME}:{POSTGRES_PORT}/{POSTGRES_DBNAME}\") \\\n",
    "    .option(\"driver\", \"org.postgresql.Driver\").option(\"dbtable\", \"students\") \\\n",
    "    .option(\"user\", POSTGRES_USERNAME).option(\"password\", POSTGRES_PASSWORD).save()"
   ]
  },
  {
   "cell_type": "code",
   "execution_count": null,
   "id": "9b3a1bb0-6fa4-442e-8a06-fcb07001058b",
   "metadata": {},
   "outputs": [],
   "source": []
  }
 ],
 "metadata": {
  "kernelspec": {
   "display_name": "Python 3 (ipykernel)",
   "language": "python",
   "name": "python3"
  },
  "language_info": {
   "codemirror_mode": {
    "name": "ipython",
    "version": 3
   },
   "file_extension": ".py",
   "mimetype": "text/x-python",
   "name": "python",
   "nbconvert_exporter": "python",
   "pygments_lexer": "ipython3",
   "version": "3.11.5"
  }
 },
 "nbformat": 4,
 "nbformat_minor": 5
}
