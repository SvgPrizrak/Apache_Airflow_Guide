{
 "cells": [
  {
   "cell_type": "code",
   "execution_count": 1,
   "id": "b4519382-9923-4a71-ad7d-e2fd95ff68a3",
   "metadata": {},
   "outputs": [],
   "source": [
    "import findspark\n",
    "findspark.init()\n",
    "from pyspark.sql import SparkSession\n",
    "from pyspark.sql import Row\n",
    "\n",
    "# constants for connection\n",
    "JDBC_CLICKHOUSE_JAR_FILENAME = 'clickhouse-jdbc-0.6.0-patch3-all'\n",
    "CLICKHOUSE_HOST_NAME = 'localhost'\n",
    "CLICKHOUSE_PORT=8123\n",
    "CLICKHOUSE_DBNAME='default'\n",
    "CLICKHOUSE_USERNAME = 'clickhouse_user'\n",
    "CLICKHOUSE_PASSWORD = 'clickhouse_password'\n",
    "TABLE_NAME = 'test_table'"
   ]
  },
  {
   "cell_type": "code",
   "execution_count": 2,
   "id": "a4dc1876-d263-4196-ae44-b89033aa46e8",
   "metadata": {},
   "outputs": [],
   "source": [
    "# the Spark session should be instantiated as follows\n",
    "spark = SparkSession \\\n",
    "    .builder \\\n",
    "    .appName(\"Python Spark ClickHouse basic example\") \\\n",
    "    .master(\"local\") \\\n",
    "    .config(\"spark.jars\", f\"{JDBC_CLICKHOUSE_JAR_FILENAME}.jar\") \\\n",
    "    .getOrCreate()"
   ]
  },
  {
   "cell_type": "code",
   "execution_count": 3,
   "id": "09931d17-791b-49da-a68b-bf60f974ee20",
   "metadata": {},
   "outputs": [],
   "source": [
    "# JDBC URL for connection to ClickHouse\n",
    "jdbc_url = f\"jdbc:clickhouse://{CLICKHOUSE_HOST_NAME}:{CLICKHOUSE_PORT}/{CLICKHOUSE_DBNAME}\"\n",
    "jdbc_properties = {\n",
    "    \"driver\": \"com.clickhouse.jdbc.ClickHouseDriver\",\n",
    "    \"user\": CLICKHOUSE_USERNAME,\n",
    "    \"password\": CLICKHOUSE_PASSWORD\n",
    "}\n",
    "\n",
    "# Creating test DataFrame\n",
    "data = [(1, 'John Doe'), (2, 'Jane Doe')]\n",
    "columns = [\"id\", \"name\"]\n",
    "df = spark.createDataFrame(data, columns)"
   ]
  },
  {
   "cell_type": "code",
   "execution_count": 4,
   "id": "41a2bc98-8c1c-4aab-9a92-9e878f93e433",
   "metadata": {},
   "outputs": [],
   "source": [
    "# Saving DataFrame to ClickHouse\n",
    "df.write \\\n",
    "    .format(\"jdbc\") \\\n",
    "    .option(\"url\", jdbc_url) \\\n",
    "    .option(\"dbtable\", 'super') \\\n",
    "    .option(\"driver\", \"com.clickhouse.jdbc.ClickHouseDriver\") \\\n",
    "    .option(\"user\", CLICKHOUSE_USERNAME) \\\n",
    "    .option(\"password\", CLICKHOUSE_PASSWORD) \\\n",
    "    .option(\"createTableOptions\", \"ENGINE=MergeTree() ORDER BY id SETTINGS index_granularity=8192\") \\\n",
    "    .mode(\"overwrite\") \\\n",
    "    .save()"
   ]
  },
  {
   "cell_type": "code",
   "execution_count": 5,
   "id": "55f03245-e5e3-466b-b92f-fdff2672933e",
   "metadata": {},
   "outputs": [
    {
     "name": "stdout",
     "output_type": "stream",
     "text": [
      "+---+--------+\n",
      "| id|    name|\n",
      "+---+--------+\n",
      "|  1|John Doe|\n",
      "|  2|Jane Doe|\n",
      "+---+--------+\n",
      "\n"
     ]
    }
   ],
   "source": [
    "# Reading DataFrame from ClickHouse\n",
    "spark.read.jdbc(url=jdbc_url, table=\"super\", properties=jdbc_properties).show()"
   ]
  }
 ],
 "metadata": {
  "kernelspec": {
   "display_name": "Python 3 (ipykernel)",
   "language": "python",
   "name": "python3"
  },
  "language_info": {
   "codemirror_mode": {
    "name": "ipython",
    "version": 3
   },
   "file_extension": ".py",
   "mimetype": "text/x-python",
   "name": "python",
   "nbconvert_exporter": "python",
   "pygments_lexer": "ipython3",
   "version": "3.11.7"
  }
 },
 "nbformat": 4,
 "nbformat_minor": 5
}
