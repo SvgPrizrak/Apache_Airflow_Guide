{
 "cells": [
  {
   "cell_type": "code",
   "execution_count": 1,
   "id": "489b0752-58c1-43e1-8170-b438857b01ae",
   "metadata": {},
   "outputs": [],
   "source": [
    "import findspark\n",
    "findspark.init()\n",
    "\n",
    "import pyspark\n",
    "from pyspark.sql.functions import when, col, lit, split, filter, explode, array, array_contains, count, min, max, mean, expr, udf, from_json, to_json\n",
    "from pyspark.sql import SparkSession\n",
    "from pyspark.sql.types import IntegerType, StringType, StructField, StructType, MapType, ArrayType, BooleanType"
   ]
  },
  {
   "cell_type": "code",
   "execution_count": 2,
   "id": "b83f3911-4cbc-42a9-b3ba-2a8dedb9723d",
   "metadata": {},
   "outputs": [],
   "source": [
    "# create spark session\n",
    "spark = SparkSession.builder.getOrCreate()"
   ]
  },
  {
   "cell_type": "code",
   "execution_count": 3,
   "id": "f7139236-353c-4245-9efa-99916338ffa7",
   "metadata": {},
   "outputs": [],
   "source": [
    "# create dataframe and schema\n",
    "data = [(1, 'Alex', 'Morgan', 'Chelsea, England', 2000, {'gender': 'F', 'age': 23}, 1),\n",
    "        (2, 'Jake', 'Jonas', 'Barcelona, Spain', 10000, {'gender': 'M', 'age': 35}, 3),\n",
    "        (3, 'John', 'Fisk', 'CSKA, Russia', 1000, {'gender': 'M', 'age': 30}, 5)]\n",
    "\n",
    "\n",
    "data_1 = [(4, 'Lionel', 'Messi', 'France, PSG', 50000, {'gender': 'M', 'age': 34}, 2),\n",
    "          (5, 'Michael', 'Duglas', 'New York Galaxy, USA', 400, {'gender': 'M', 'age': 61}, 3),\n",
    "          (6, 'Jane', 'One', 'Milan, Italy', 3000, {'gender': 'F', 'age': 21}, 1),\n",
    "          (7, 'Jane', 'One', 'Milan, Italy', 3000, {'gender': 'F', 'age': 21}, 2)]\n",
    "\n",
    "data_2 = [(1, 'IT'),\n",
    "          (2, 'HR'),\n",
    "          (3, 'Development'),\n",
    "          (4, 'Analyitcs')]\n",
    "\n",
    "schema = StructType([StructField(name='id', dataType=IntegerType()),\n",
    "                     StructField(name='first_name', dataType=StringType()),\n",
    "                     StructField(name='second_name', dataType=StringType()),\n",
    "                     StructField(name='team', dataType=StringType()),\n",
    "                     StructField(name='salary', dataType=IntegerType()),\n",
    "                     StructField(name='gender_and_age', dataType=MapType(StringType(), StringType())),\n",
    "                     StructField(name='dep_id', dataType=IntegerType())\n",
    "                    ])\n",
    "\n",
    "schema_1 = StructType([StructField(name='id', dataType=IntegerType()),\n",
    "                       StructField(name='dep_name', dataType=StringType())\n",
    "                     ])\n",
    "\n",
    "df = spark.createDataFrame(data=data, schema=schema)\n",
    "df_1 = spark.createDataFrame(data=data_1, schema=schema)\n",
    "df_2 = spark.createDataFrame(data=data_2, schema=schema_1)"
   ]
  },
  {
   "cell_type": "code",
   "execution_count": 4,
   "id": "3232c261-d8ac-454d-b1a3-b35c38bb7e03",
   "metadata": {},
   "outputs": [
    {
     "name": "stdout",
     "output_type": "stream",
     "text": [
      "root\n",
      " |-- id: integer (nullable = true)\n",
      " |-- first_name: string (nullable = true)\n",
      " |-- footbal_club: string (nullable = true)\n",
      " |-- footbal_country: string (nullable = true)\n",
      " |-- salary: integer (nullable = true)\n",
      " |-- gender: string (nullable = true)\n",
      " |-- age: string (nullable = true)\n",
      " |-- dep_id: integer (nullable = true)\n",
      "\n"
     ]
    }
   ],
   "source": [
    "# data transformations\n",
    "df = df.select(df.id, \n",
    "               df.first_name, \n",
    "               split('team', ',')[0].alias('footbal_club'),\n",
    "               split('team', ',')[1].alias('footbal_country'), \n",
    "               df.salary,\n",
    "               df.gender_and_age['gender'].alias('gender'),\n",
    "               df.gender_and_age['age'].alias('age'),\n",
    "               df.dep_id.alias('dep_id'))\n",
    "df.printSchema()"
   ]
  },
  {
   "cell_type": "code",
   "execution_count": 5,
   "id": "6bc63141-708b-49f5-8d4b-db5d30be4a17",
   "metadata": {},
   "outputs": [
    {
     "name": "stdout",
     "output_type": "stream",
     "text": [
      "root\n",
      " |-- id: integer (nullable = true)\n",
      " |-- first_name: string (nullable = true)\n",
      " |-- footbal_club: string (nullable = true)\n",
      " |-- footbal_country: string (nullable = true)\n",
      " |-- salary: integer (nullable = true)\n",
      " |-- gender: string (nullable = true)\n",
      " |-- age: string (nullable = true)\n",
      " |-- dep_id: integer (nullable = true)\n",
      " |-- is_high_age: boolean (nullable = false)\n",
      "\n"
     ]
    }
   ],
   "source": [
    "# data transformations\n",
    "df_1 = df_1.select(df_1.id, \n",
    "                   df_1.first_name, \n",
    "                   split('team', ',')[0].alias('footbal_club'),\n",
    "                   split('team', ',')[1].alias('footbal_country'), \n",
    "                   df_1.salary,\n",
    "                   df_1.gender_and_age['gender'].alias('gender'),\n",
    "                   df_1.gender_and_age['age'].alias('age'),\n",
    "                   df_1.dep_id.alias('dep_id'),\n",
    "                   when(df_1.gender_and_age['age'] > 30, True).otherwise(False).alias('is_high_age').cast(BooleanType()))\n",
    "df_1.printSchema()"
   ]
  },
  {
   "cell_type": "code",
   "execution_count": 6,
   "id": "d1ce64c3-61de-410b-986c-b15b192bafd3",
   "metadata": {},
   "outputs": [
    {
     "name": "stdout",
     "output_type": "stream",
     "text": [
      "+---+-----------+\n",
      "| id|   dep_name|\n",
      "+---+-----------+\n",
      "|  1|         IT|\n",
      "|  2|         HR|\n",
      "|  3|Development|\n",
      "|  4|  Analyitcs|\n",
      "+---+-----------+\n",
      "\n",
      "root\n",
      " |-- id: integer (nullable = true)\n",
      " |-- dep_name: string (nullable = true)\n",
      "\n"
     ]
    }
   ],
   "source": [
    "df_2.show()\n",
    "df_2.printSchema()"
   ]
  },
  {
   "cell_type": "code",
   "execution_count": 7,
   "id": "8af85e08-dd64-4905-a43e-192ea1ab04a9",
   "metadata": {},
   "outputs": [],
   "source": [
    "# check save and loading\n",
    "df.coalesce(1).write.format('csv').mode('overwrite').options(header=True).save('test')\n",
    "df_1.coalesce(1).write.format('csv').mode('overwrite').options(header=True).save('test1')\n",
    "\n",
    "df = spark.read.format('csv').options(header=True).load('test')\n",
    "df_1 = spark.read.format('csv').options(header=True).load('test1')"
   ]
  },
  {
   "cell_type": "code",
   "execution_count": 8,
   "id": "d4e3b0c0-f90d-4f29-adf1-dc971390c61d",
   "metadata": {},
   "outputs": [
    {
     "name": "stdout",
     "output_type": "stream",
     "text": [
      "root\n",
      " |-- id: string (nullable = true)\n",
      " |-- first_name: string (nullable = true)\n",
      " |-- footbal_club: string (nullable = true)\n",
      " |-- footbal_country: string (nullable = true)\n",
      " |-- salary: string (nullable = true)\n",
      " |-- gender: string (nullable = true)\n",
      " |-- age: string (nullable = true)\n",
      " |-- dep_id: string (nullable = true)\n",
      "\n"
     ]
    }
   ],
   "source": [
    "df.printSchema()"
   ]
  },
  {
   "cell_type": "code",
   "execution_count": 9,
   "id": "495e87fc-205f-4005-99d0-bb21a0d3c26c",
   "metadata": {},
   "outputs": [
    {
     "name": "stdout",
     "output_type": "stream",
     "text": [
      "+---+----------+------------+---------------+------+------+---+------+\n",
      "| id|first_name|footbal_club|footbal_country|salary|gender|age|dep_id|\n",
      "+---+----------+------------+---------------+------+------+---+------+\n",
      "|  1|      Alex|     Chelsea|        England|  2000|     F| 23|     1|\n",
      "|  2|      Jake|   Barcelona|          Spain| 10000|     M| 35|     3|\n",
      "+---+----------+------------+---------------+------+------+---+------+\n",
      "\n"
     ]
    }
   ],
   "source": [
    "# filter\n",
    "df.filter((df.age > 30) | (df.footbal_club.like('%a%'))).show()"
   ]
  },
  {
   "cell_type": "code",
   "execution_count": 10,
   "id": "6e09283e-b4de-4679-979d-8eb476e2a1da",
   "metadata": {},
   "outputs": [
    {
     "name": "stdout",
     "output_type": "stream",
     "text": [
      "+---+----------+------------+---------------+------+------+---+------+\n",
      "| id|first_name|footbal_club|footbal_country|salary|gender|age|dep_id|\n",
      "+---+----------+------------+---------------+------+------+---+------+\n",
      "|  1|      Alex|     Chelsea|        England|  2000|     F| 23|     1|\n",
      "|  2|      Jake|   Barcelona|          Spain| 10000|     M| 35|     3|\n",
      "+---+----------+------------+---------------+------+------+---+------+\n",
      "\n"
     ]
    }
   ],
   "source": [
    "# drop duplicates\n",
    "df.dropDuplicates(['gender']).show()"
   ]
  },
  {
   "cell_type": "code",
   "execution_count": 11,
   "id": "40c87836-d764-44d6-b702-3d1ab2cc3678",
   "metadata": {},
   "outputs": [
    {
     "name": "stdout",
     "output_type": "stream",
     "text": [
      "+---+----------+------------+---------------+------+------+---+------+\n",
      "| id|first_name|footbal_club|footbal_country|salary|gender|age|dep_id|\n",
      "+---+----------+------------+---------------+------+------+---+------+\n",
      "|  1|      Alex|     Chelsea|        England|  2000|     F| 23|     1|\n",
      "|  3|      John|        CSKA|         Russia|  1000|     M| 30|     5|\n",
      "|  2|      Jake|   Barcelona|          Spain| 10000|     M| 35|     3|\n",
      "+---+----------+------------+---------------+------+------+---+------+\n",
      "\n",
      "+---+----------+---------------+---------------+------+------+---+------+-----------+\n",
      "| id|first_name|   footbal_club|footbal_country|salary|gender|age|dep_id|is_high_age|\n",
      "+---+----------+---------------+---------------+------+------+---+------+-----------+\n",
      "|  6|      Jane|          Milan|          Italy|  3000|     F| 21|     1|      false|\n",
      "|  7|      Jane|          Milan|          Italy|  3000|     F| 21|     2|      false|\n",
      "|  5|   Michael|New York Galaxy|            USA|   400|     M| 61|     3|       true|\n",
      "|  4|    Lionel|         France|            PSG| 50000|     M| 34|     2|       true|\n",
      "+---+----------+---------------+---------------+------+------+---+------+-----------+\n",
      "\n"
     ]
    }
   ],
   "source": [
    "# sorting\n",
    "df.orderBy(df.gender.asc(), df.first_name.desc()).show()\n",
    "df_1.sort(['gender', 'first_name'], ascending=[True, False]).show()"
   ]
  },
  {
   "cell_type": "code",
   "execution_count": 12,
   "id": "d7fa3468-5601-4e8f-9315-82268e640777",
   "metadata": {},
   "outputs": [
    {
     "name": "stdout",
     "output_type": "stream",
     "text": [
      "+---+----------+---------------+---------------+------+------+---+------+-----------+\n",
      "| id|first_name|   footbal_club|footbal_country|salary|gender|age|dep_id|is_high_age|\n",
      "+---+----------+---------------+---------------+------+------+---+------+-----------+\n",
      "|  4|    Lionel|         France|            PSG| 50000|     M| 34|     2|       true|\n",
      "|  6|      Jane|          Milan|          Italy|  3000|     F| 21|     1|      false|\n",
      "|  5|   Michael|New York Galaxy|            USA|   400|     M| 61|     3|       true|\n",
      "|  7|      Jane|          Milan|          Italy|  3000|     F| 21|     2|      false|\n",
      "|  2|      Jake|      Barcelona|          Spain| 10000|     M| 35|     3|       NULL|\n",
      "|  3|      John|           CSKA|         Russia|  1000|     M| 30|     5|       NULL|\n",
      "|  1|      Alex|        Chelsea|        England|  2000|     F| 23|     1|       NULL|\n",
      "+---+----------+---------------+---------------+------+------+---+------+-----------+\n",
      "\n"
     ]
    }
   ],
   "source": [
    "# union (or unionByName)\n",
    "df.unionByName(other=df_1, allowMissingColumns=True).dropDuplicates().show()"
   ]
  },
  {
   "cell_type": "code",
   "execution_count": 13,
   "id": "95efbad4-1c7e-401c-b01b-791fd23eb54f",
   "metadata": {},
   "outputs": [
    {
     "name": "stdout",
     "output_type": "stream",
     "text": [
      "+------+---------------------------+-----------+\n",
      "|gender|count_od_football_countries|minimum_age|\n",
      "+------+---------------------------+-----------+\n",
      "|     F|                          1|         23|\n",
      "|     M|                          2|         30|\n",
      "+------+---------------------------+-----------+\n",
      "\n"
     ]
    }
   ],
   "source": [
    "# grouping\n",
    "df.groupBy('gender').agg(count('footbal_country').alias('count_od_football_countries'), \n",
    "                         min('age').alias('minimum_age')).show()"
   ]
  },
  {
   "cell_type": "code",
   "execution_count": 14,
   "id": "1e942288-5933-4698-9dde-624b50e6b950",
   "metadata": {},
   "outputs": [
    {
     "name": "stdout",
     "output_type": "stream",
     "text": [
      "+---+----------+------------+---------------+------+------+---+------+\n",
      "| id|first_name|footbal_club|footbal_country|salary|gender|age|dep_id|\n",
      "+---+----------+------------+---------------+------+------+---+------+\n",
      "|  3|      John|        CSKA|         Russia|  1000|     M| 30|     5|\n",
      "+---+----------+------------+---------------+------+------+---+------+\n",
      "\n"
     ]
    }
   ],
   "source": [
    "# join\n",
    "df.join(other=df_2, on=df.dep_id==df_2.id, how='leftanti').show()"
   ]
  },
  {
   "cell_type": "code",
   "execution_count": 15,
   "id": "7b06e794-14ec-4c12-8625-f2260ef09afe",
   "metadata": {},
   "outputs": [
    {
     "name": "stdout",
     "output_type": "stream",
     "text": [
      "+---------------+----+----+----+\n",
      "|footbal_country|Alex|Jake|John|\n",
      "+---------------+----+----+----+\n",
      "|         Russia|   0|   0|   1|\n",
      "|          Spain|   0|   1|   0|\n",
      "|        England|   1|   0|   0|\n",
      "+---------------+----+----+----+\n",
      "\n"
     ]
    }
   ],
   "source": [
    "# fillna and pivot\n",
    "df_3 = df.groupby('footbal_country').pivot('first_name').count().fillna(0)\n",
    "df_3.show()"
   ]
  },
  {
   "cell_type": "code",
   "execution_count": 16,
   "id": "84a8f391-be0b-4210-8e77-cf3f0367698d",
   "metadata": {},
   "outputs": [
    {
     "data": {
      "text/plain": [
       "Row(footbal_country='Russia', first_name='Alex', count=0)"
      ]
     },
     "execution_count": 16,
     "metadata": {},
     "output_type": "execute_result"
    }
   ],
   "source": [
    "# unpivot\n",
    "df_3.select(df_3.footbal_country, expr(\"stack(3, 'Alex', Alex, 'Jake', Jake, 'John', John) as (first_name, count)\")).collect()[0]"
   ]
  },
  {
   "cell_type": "code",
   "execution_count": 17,
   "id": "3289ec24-e3c3-4271-af71-e861ab89e07f",
   "metadata": {},
   "outputs": [
    {
     "name": "stdout",
     "output_type": "stream",
     "text": [
      "+---+----------+------------+---------------+------+------+---+------+\n",
      "| id|first_name|footbal_club|footbal_country|salary|gender|age|dep_id|\n",
      "+---+----------+------------+---------------+------+------+---+------+\n",
      "|  1|      Alex|     Chelsea|        England|  2000|     F| 23|     1|\n",
      "+---+----------+------------+---------------+------+------+---+------+\n",
      "\n"
     ]
    }
   ],
   "source": [
    "# sample\n",
    "df.sample(fraction=0.5, seed=123).show()"
   ]
  },
  {
   "cell_type": "code",
   "execution_count": 18,
   "id": "e0c58bd9-7277-4ff3-b15f-196d064234b2",
   "metadata": {},
   "outputs": [
    {
     "name": "stdout",
     "output_type": "stream",
     "text": [
      "+---+----------+------------+---------------+------+------+---+------+---------+\n",
      "| id|first_name|footbal_club|footbal_country|salary|gender|age|dep_id|     test|\n",
      "+---+----------+------------+---------------+------+------+---+------+---------+\n",
      "|  1|      Alex|     Chelsea|        England|  2000|     F| 23|     1|     NULL|\n",
      "|  2|      Jake|   Barcelona|          Spain| 10000|     M| 35|     3|     NULL|\n",
      "|  3|      John|        CSKA|         Russia|  1000|     M| 30|     5|Barcelona|\n",
      "+---+----------+------------+---------------+------+------+---+------+---------+\n",
      "\n"
     ]
    }
   ],
   "source": [
    "df.createOrReplaceTempView('first_table')\n",
    "spark.sql(\" SELECT *, LAG(footbal_club, 1) OVER(partition by gender order by id) as test FROM first_table\").show()"
   ]
  },
  {
   "cell_type": "code",
   "execution_count": 19,
   "id": "ed4ab432-9c13-46d8-87b1-7b9f7954f91c",
   "metadata": {},
   "outputs": [
    {
     "name": "stdout",
     "output_type": "stream",
     "text": [
      "+-----------------------------------------------+\n",
      "|<lambda>(cast(salary as int), cast(age as int))|\n",
      "+-----------------------------------------------+\n",
      "|                                           2023|\n",
      "|                                          10035|\n",
      "|                                           1030|\n",
      "+-----------------------------------------------+\n",
      "\n"
     ]
    }
   ],
   "source": [
    "# udf\n",
    "SalaryAge = udf(lambda x, y: x + y)\n",
    "df.select(SalaryAge(df.salary.cast(IntegerType()), df.age.cast(IntegerType()))).show()"
   ]
  },
  {
   "cell_type": "code",
   "execution_count": 20,
   "id": "94fb479f-5140-456e-b400-4e97a247ea7f",
   "metadata": {},
   "outputs": [
    {
     "name": "stdout",
     "output_type": "stream",
     "text": [
      "+-----+\n",
      "|   _1|\n",
      "+-----+\n",
      "| 2001|\n",
      "|10002|\n",
      "| 1003|\n",
      "+-----+\n",
      "\n"
     ]
    }
   ],
   "source": [
    "# rdd, map\n",
    "rdd = spark.sparkContext.parallelize(data)\n",
    "rdd.collect()\n",
    "rdd.map(lambda x: (x[0] + x[4],)).toDF().show()"
   ]
  },
  {
   "cell_type": "code",
   "execution_count": 21,
   "id": "0c457dc3-e71c-4dfa-8357-ed946122f593",
   "metadata": {},
   "outputs": [],
   "source": [
    "# partitionBy\n",
    "df.coalesce(1).write.format('csv').mode('overwrite').partitionBy('gender').options(header=True).save('test2')\n",
    "df_4 = spark.read.format('csv').options(header=True).load('test2/gender=F')"
   ]
  },
  {
   "cell_type": "code",
   "execution_count": 22,
   "id": "8823bebc-be47-4c3c-adad-112bda571249",
   "metadata": {},
   "outputs": [
    {
     "name": "stdout",
     "output_type": "stream",
     "text": [
      "+---+----------+------------+---------------+------+---+------+\n",
      "| id|first_name|footbal_club|footbal_country|salary|age|dep_id|\n",
      "+---+----------+------------+---------------+------+---+------+\n",
      "|  1|      Alex|     Chelsea|        England|  2000| 23|     1|\n",
      "+---+----------+------------+---------------+------+---+------+\n",
      "\n"
     ]
    }
   ],
   "source": [
    "df_4.show()"
   ]
  }
 ],
 "metadata": {
  "kernelspec": {
   "display_name": "Python 3 (ipykernel)",
   "language": "python",
   "name": "python3"
  },
  "language_info": {
   "codemirror_mode": {
    "name": "ipython",
    "version": 3
   },
   "file_extension": ".py",
   "mimetype": "text/x-python",
   "name": "python",
   "nbconvert_exporter": "python",
   "pygments_lexer": "ipython3",
   "version": "3.11.7"
  }
 },
 "nbformat": 4,
 "nbformat_minor": 5
}
